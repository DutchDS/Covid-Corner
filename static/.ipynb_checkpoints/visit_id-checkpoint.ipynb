{
 "cells": [
  {
   "cell_type": "code",
   "execution_count": 95,
   "metadata": {},
   "outputs": [],
   "source": [
    "import uuid\n",
    "import datetime"
   ]
  },
  {
   "cell_type": "code",
   "execution_count": 96,
   "metadata": {},
   "outputs": [],
   "source": [
    "def create_visit_id():\n",
    "    myTEMP_ID = str(uuid.uuid4())\n",
    "    myLen=len(myVISIT_ID)\n",
    "\n",
    "    COMPANY_ID = 12345678\n",
    "    TIME_ID = datetime.datetime.now().strftime(\"%Y%m%d%H%M%S\")\n",
    "    TEMP_ID = myTEMP_ID[-12:myLen]\n",
    "\n",
    "    VISIT_ID = str(COMPANY_ID) + '-' + str(TIME_ID)  + '-' + TEMP_ID\n",
    "\n",
    "    print(VISIT_ID)\n",
    "    \n",
    "    return VISIT_ID"
   ]
  },
  {
   "cell_type": "code",
   "execution_count": 100,
   "metadata": {},
   "outputs": [
    {
     "name": "stdout",
     "output_type": "stream",
     "text": [
      "12345678-20200423153934-e294a4d8cfc2\n"
     ]
    }
   ],
   "source": [
    "VISIT_ID = create_visit_id()"
   ]
  },
  {
   "cell_type": "code",
   "execution_count": 101,
   "metadata": {},
   "outputs": [
    {
     "name": "stdout",
     "output_type": "stream",
     "text": [
      "12345678-20200423153934-e294a4d8cfc2\n"
     ]
    }
   ],
   "source": [
    "print(VISIT_ID)"
   ]
  },
  {
   "cell_type": "code",
   "execution_count": null,
   "metadata": {},
   "outputs": [],
   "source": []
  }
 ],
 "metadata": {
  "kernelspec": {
   "display_name": "Python 3.6.9 64-bit ('PythonData': conda)",
   "language": "python",
   "name": "python36964bitpythondataconda85574f336fe84089b321fb02028434bc"
  },
  "language_info": {
   "codemirror_mode": {
    "name": "ipython",
    "version": 3
   },
   "file_extension": ".py",
   "mimetype": "text/x-python",
   "name": "python",
   "nbconvert_exporter": "python",
   "pygments_lexer": "ipython3",
   "version": "3.6.9"
  }
 },
 "nbformat": 4,
 "nbformat_minor": 2
}
